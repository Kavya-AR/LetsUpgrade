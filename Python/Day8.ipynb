{
  "nbformat": 4,
  "nbformat_minor": 0,
  "metadata": {
    "colab": {
      "name": "Day8.ipynb",
      "provenance": []
    },
    "kernelspec": {
      "name": "python3",
      "display_name": "Python 3"
    }
  },
  "cells": [
    {
      "cell_type": "code",
      "metadata": {
        "id": "EKdEDxW3gD0A",
        "colab_type": "code",
        "colab": {}
      },
      "source": [
        "#Decorators Program"
      ],
      "execution_count": null,
      "outputs": []
    },
    {
      "cell_type": "code",
      "metadata": {
        "id": "ZRVfqLkwgUBN",
        "colab_type": "code",
        "colab": {}
      },
      "source": [
        "def memoize(function_write):\n",
        "  memo={}\n",
        "  def helper(x):\n",
        "    if x not in memo:\n",
        "      memo[x]=f(x)\n",
        "      return memo[x]\n",
        "      return helper"
      ],
      "execution_count": null,
      "outputs": []
    },
    {
      "cell_type": "code",
      "metadata": {
        "id": "UbPFwHLdlANQ",
        "colab_type": "code",
        "colab": {}
      },
      "source": [
        "@memoize\n",
        "def fib(n):\n",
        "  if n==0:\n",
        "    return 0\n",
        "  elif n==1:\n",
        "    return 1\n",
        "  else:\n",
        "    return fib(n-1)+fib(n-2)\n",
        "    print(fib(40))"
      ],
      "execution_count": null,
      "outputs": []
    },
    {
      "cell_type": "code",
      "metadata": {
        "id": "U1_5L6Ummr8n",
        "colab_type": "code",
        "colab": {}
      },
      "source": [
        "#Exception Handling Program"
      ],
      "execution_count": 11,
      "outputs": []
    },
    {
      "cell_type": "code",
      "metadata": {
        "id": "YfyeCww_qprc",
        "colab_type": "code",
        "colab": {
          "base_uri": "https://localhost:8080/",
          "height": 34
        },
        "outputId": "1caf1125-aade-427b-c083-e6c71bab5269"
      },
      "source": [
        "try:\n",
        "  f=open(\"somefile.txt\",'r')\n",
        "  print(f.read())\n",
        "  f.close()\n",
        "except IOError:\n",
        "    print(\"file not found\")"
      ],
      "execution_count": 14,
      "outputs": [
        {
          "output_type": "stream",
          "text": [
            "file not found\n"
          ],
          "name": "stdout"
        }
      ]
    },
    {
      "cell_type": "code",
      "metadata": {
        "id": "ljYWfhHMsnrv",
        "colab_type": "code",
        "colab": {
          "base_uri": "https://localhost:8080/",
          "height": 51
        },
        "outputId": "edee278b-47e3-4170-8ff7-2a6659d8bf72"
      },
      "source": [
        "try:\n",
        "  file =open(\"somefile.txt\",\"r\")\n",
        "  file.write(\"HI\")\n",
        "  file.close()\n",
        "  print(\"Success\")\n",
        "except Exception as e:\n",
        "  print(e)\n",
        "finally:\n",
        "  print(\"Hey I will execute what so ever it may be\")"
      ],
      "execution_count": 19,
      "outputs": [
        {
          "output_type": "stream",
          "text": [
            "[Errno 2] No such file or directory: 'somefile.txt'\n",
            "Hey I will execute what so ever it may be\n"
          ],
          "name": "stdout"
        }
      ]
    },
    {
      "cell_type": "code",
      "metadata": {
        "id": "kIVeTYFJuTHT",
        "colab_type": "code",
        "colab": {}
      },
      "source": [
        ""
      ],
      "execution_count": null,
      "outputs": []
    }
  ]
}