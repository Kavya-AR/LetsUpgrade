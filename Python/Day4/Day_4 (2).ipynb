{
  "nbformat": 4,
  "nbformat_minor": 0,
  "metadata": {
    "colab": {
      "name": "Day 4.ipynb",
      "provenance": [],
      "collapsed_sections": []
    },
    "kernelspec": {
      "name": "python3",
      "display_name": "Python 3"
    }
  },
  "cells": [
    {
      "cell_type": "code",
      "metadata": {
        "id": "Txqh_TvPEzGJ",
        "colab_type": "code",
        "colab": {}
      },
      "source": [
        "#Armstrong program"
      ],
      "execution_count": null,
      "outputs": []
    },
    {
      "cell_type": "code",
      "metadata": {
        "id": "MAFOwM0hFkbr",
        "colab_type": "code",
        "colab": {
          "base_uri": "https://localhost:8080/"
        },
        "outputId": "dcd8d956-94d0-4f6d-ff4b-d7e8e19e0b1d"
      },
      "source": [
        "lower = 1042000\n",
        "upper = 70268265\n",
        "\n",
        "for num in range(lower,upper + 1):\n",
        "\n",
        "\n",
        "  order = len(str(num))\n",
        "\n",
        "  sum = 0\n",
        "\n",
        "  temp = num\n",
        "  while temp > 0:\n",
        "    digit = temp % 10\n",
        "    sum += digit ** order\n",
        "    temp //= 10\n",
        "\n",
        "  if num == sum:\n",
        "    print(num)"
      ],
      "execution_count": null,
      "outputs": [
        {
          "output_type": "stream",
          "text": [
            "1741725\n",
            "4210818\n",
            "9800817\n",
            "9926315\n",
            "24678050\n",
            "24678051\n"
          ],
          "name": "stdout"
        }
      ]
    },
    {
      "cell_type": "code",
      "metadata": {
        "id": "N18cwFwFG42L",
        "colab_type": "code",
        "colab": {}
      },
      "source": [
        ""
      ],
      "execution_count": null,
      "outputs": []
    }
  ]
}