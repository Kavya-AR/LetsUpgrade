{
  "nbformat": 4,
  "nbformat_minor": 0,
  "metadata": {
    "colab": {
      "name": "Day3.ipynb",
      "provenance": []
    },
    "kernelspec": {
      "name": "python3",
      "display_name": "Python 3"
    }
  },
  "cells": [
    {
      "cell_type": "code",
      "metadata": {
        "id": "L2KzGh2OrGsp",
        "colab_type": "code",
        "colab": {
          "base_uri": "https://localhost:8080/",
          "height": 51
        },
        "outputId": "2baa16d8-5ac0-45a2-b21e-7961eeca91d5"
      },
      "source": [
        "\n",
        "a = input(\"Enter altitude:\")\n",
        "a = int(a)\n",
        "\n",
        "if a <= 1000:\n",
        "  print(\"Safe to land\")\n",
        "elif a <= 5000:\n",
        "    print(\"Bring down to 1000\")\n",
        "else:\n",
        "      print(\"Turn around\")"
      ],
      "execution_count": 16,
      "outputs": [
        {
          "output_type": "stream",
          "text": [
            "Enter altitude:7000\n",
            "Turn around\n"
          ],
          "name": "stdout"
        }
      ]
    },
    {
      "cell_type": "code",
      "metadata": {
        "id": "fYbTx705xvbS",
        "colab_type": "code",
        "colab": {}
      },
      "source": [
        "#2nd program"
      ],
      "execution_count": null,
      "outputs": []
    },
    {
      "cell_type": "code",
      "metadata": {
        "id": "am2tO9aex3GH",
        "colab_type": "code",
        "colab": {
          "base_uri": "https://localhost:8080/",
          "height": 34
        },
        "outputId": "a104d8a7-fb8d-42f8-93f6-0b440e07391f"
      },
      "source": [
        "for n in range(1,201):\n",
        "  count = 0\n",
        "  for i in range(2,(n//2+1)):\n",
        "    if(n%i==0):\n",
        "      count=count+1\n",
        "      break\n",
        "      \n",
        "  if(count == 0 and n != 1):  \n",
        "         print(\"%d\" %n,end=',')"
      ],
      "execution_count": 48,
      "outputs": [
        {
          "output_type": "stream",
          "text": [
            "2,3,5,7,11,13,17,19,23,29,31,37,41,43,47,53,59,61,67,71,73,79,83,89,97,101,103,107,109,113,127,131,137,139,149,151,157,163,167,173,179,181,191,193,197,199,"
          ],
          "name": "stdout"
        }
      ]
    },
    {
      "cell_type": "code",
      "metadata": {
        "id": "zd1XRfuOvbBh",
        "colab_type": "code",
        "colab": {}
      },
      "source": [
        ""
      ],
      "execution_count": 43,
      "outputs": []
    }
  ]
}